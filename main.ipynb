{
 "cells": [
  {
   "cell_type": "code",
   "execution_count": 123,
   "id": "8c10f6be-d3ca-484c-9143-d0592e8b60c5",
   "metadata": {},
   "outputs": [],
   "source": [
    "from pathlib import Path\n",
    "import csv"
   ]
  },
  {
   "cell_type": "code",
   "execution_count": 124,
   "id": "d663b2a0-6c69-48fb-be3e-09126782bc29",
   "metadata": {},
   "outputs": [
    {
     "name": "stdout",
     "output_type": "stream",
     "text": [
      "Current Working Directory: /Users/stephen/MONU-VIRT-FIN-PT-11-2022-U-LOLC/Homework/02-Python/PyBank/Resources\n"
     ]
    }
   ],
   "source": [
    "# Check the current directory where the Python program is executing from\n",
    "print(f\"Current Working Directory: {Path.cwd()}\")"
   ]
  },
  {
   "cell_type": "code",
   "execution_count": 125,
   "id": "5dc27d2b-cc16-4bc2-acb1-d3001badca90",
   "metadata": {},
   "outputs": [],
   "source": [
    "# Set the file path\n",
    "csvpath = Path('../../Pybank/Resources/budget_data.csv')"
   ]
  },
  {
   "cell_type": "code",
   "execution_count": 126,
   "id": "4961e8fc-1dec-4fd1-a9f9-9c331b538088",
   "metadata": {},
   "outputs": [],
   "source": [
    "# Initialize list of records\n",
    "Profit_Losses = []\n",
    "Each_Month = []\n",
    "Month_Year = []"
   ]
  },
  {
   "cell_type": "code",
   "execution_count": 127,
   "id": "164cad22-2fab-400e-b097-967d33cdeb08",
   "metadata": {},
   "outputs": [],
   "source": [
    "# Open the csv file as an object\n",
    "with open(csvpath, 'r') as csvfile:\n",
    "    csvreader = csv.reader(csvfile, delimiter=',')\n",
    "    header = next(csvreader)\n",
    "    #appending data from CSV to corresponding list\n",
    "    for row in csvreader:\n",
    "        Profit_Losses.append(int(row[1]))\n",
    "        Month_Year.append(row[0])\n",
    "        \n",
    "        #interating data to calculate month on month difference and appending to list\n",
    "    for variable in range(len(Profit_Losses)-1):\n",
    "        difference = (Profit_Losses[variable+1]) - (Profit_Losses[variable]) \n",
    "        Each_Month.append(difference)"
   ]
  },
  {
   "cell_type": "code",
   "execution_count": 142,
   "id": "6b879799-f267-4c21-8bee-1937a4286904",
   "metadata": {},
   "outputs": [],
   "source": [
    "total_months = len(Month_Year)"
   ]
  },
  {
   "cell_type": "code",
   "execution_count": 143,
   "id": "5a7470e8-22ce-4b6e-ae15-881b015eddb8",
   "metadata": {},
   "outputs": [],
   "source": [
    "net_total_amount = sum(Profit_Losses)"
   ]
  },
  {
   "cell_type": "code",
   "execution_count": 144,
   "id": "d5b690fd-deff-46b1-bd95-4b6dfc372e4d",
   "metadata": {},
   "outputs": [],
   "source": [
    "each_month_period = (len(Profit_Losses)-1)"
   ]
  },
  {
   "cell_type": "code",
   "execution_count": 145,
   "id": "0a732a4d-8519-43ee-8fca-e7f575240be2",
   "metadata": {},
   "outputs": [],
   "source": [
    "average_of_the_changes = round(sum(Each_Month) / each_month_period,2)"
   ]
  },
  {
   "cell_type": "code",
   "execution_count": 146,
   "id": "9a082910-49a4-47e5-b6c7-0c0d2f82b805",
   "metadata": {},
   "outputs": [],
   "source": [
    "greatest_increase_in_profits = max(Each_Month) \n",
    "greatest_decrease_in_profits = min(Each_Month)"
   ]
  },
  {
   "cell_type": "code",
   "execution_count": 149,
   "id": "5d5caa26-64f1-4104-bb00-02e10d66b165",
   "metadata": {},
   "outputs": [
    {
     "name": "stdout",
     "output_type": "stream",
     "text": [
      "Financial Analysis\n",
      "----------------------------\n",
      "Total Months: 86\n",
      "Total: $38382578\n",
      "Average  Change: $-2315.12\n",
      "Greatest Increase in Profits: ($1926159\n",
      "Greatest Decrease in Profits: ($-2196167\n"
     ]
    }
   ],
   "source": [
    "print(\"Financial Analysis\")\n",
    "print(\"----------------------------\")\n",
    "print(f\"Total Months: {total_months}\")\n",
    "print(f\"Total: ${net_total_amount}\")\n",
    "print(f\"Average  Change: ${average_of_the_changes}\")\n",
    "print(f\"Greatest Increase in Profits: (${greatest_increase_in_profits}\")\n",
    "print(f\"Greatest Decrease in Profits: (${greatest_decrease_in_profits}\")"
   ]
  },
  {
   "cell_type": "code",
   "execution_count": 150,
   "id": "8b214dcf-768d-4455-b65e-ca708f1aaecb",
   "metadata": {},
   "outputs": [],
   "source": [
    "output_path = Path(\"output.txt\")"
   ]
  },
  {
   "cell_type": "code",
   "execution_count": 152,
   "id": "110151eb-bb67-4c26-9259-497c86ed1e66",
   "metadata": {},
   "outputs": [],
   "source": [
    "with open(output_path, 'w') as file:\n",
    "    file.write(\"Financial Analysis\")\n",
    "    file.write(\"----------------------------\")\n",
    "    file.write(f\"Total Months: {total_months}\")\n",
    "    file.write(f\"Total: ${net_total_amount}\")\n",
    "    file.write(f\"Average  Change: ${average_of_the_changes}\")\n",
    "    file.write(f\"Greatest Increase in Profits: (${greatest_increase_in_profits}\")\n",
    "    file.write(f\"Greatest Decrease in Profits: (${greatest_decrease_in_profits}\")"
   ]
  }
 ],
 "metadata": {
  "kernelspec": {
   "display_name": "Python 3 (ipykernel)",
   "language": "python",
   "name": "python3"
  },
  "language_info": {
   "codemirror_mode": {
    "name": "ipython",
    "version": 3
   },
   "file_extension": ".py",
   "mimetype": "text/x-python",
   "name": "python",
   "nbconvert_exporter": "python",
   "pygments_lexer": "ipython3",
   "version": "3.9.13"
  }
 },
 "nbformat": 4,
 "nbformat_minor": 5
}
