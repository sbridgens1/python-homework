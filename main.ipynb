from pathlib import Path
import csv

print(f"Current Working Directory: {Path.cwd()}")

csvpath = Path('../../Pybank/Resources/budget_data.csv')

Profit_Losses = []
Each_Month = []
Month_Year = []

with open(csvpath, 'r') as csvfile:
    csvreader = csv.reader(csvfile, delimiter=',')
    header = next(csvreader)

    for row in csvreader:
        Profit_Losses.append(int(row[1]))
        Month_Year.append(row[0])
        
     
    for variable in range(len(Profit_Losses)-1):
        difference = (Profit_Losses[variable+1]) - (Profit_Losses[variable]) 
        Each_Month.append(difference)

total_months = len(Month_Year)

net_total_amount = sum(Profit_Losses)

each_month_period = (len(Profit_Losses)-1)

average_of_the_changes = round(sum(Each_Month) / each_month_period,2)

greatest_increase_in_profits = max(Each_Month) 
greatest_decrease_in_profits = min(Each_Month)

print("Financial Analysis")
print("----------------------------")
print(f"Total Months: {total_months}")
print(f"Total: ${net_total_amount}")
print(f"Average  Change: ${average_of_the_changes}")
print(f"Greatest Increase in Profits: (${greatest_increase_in_profits}")
print(f"Greatest Decrease in Profits: (${greatest_decrease_in_profits}")

Financial Analysis
----------------------------
Total Months: 86
Total: $38382578
Average  Change: $-2315.12
Greatest Increase in Profits: ($1926159
Greatest Decrease in Profits: ($-2196167
